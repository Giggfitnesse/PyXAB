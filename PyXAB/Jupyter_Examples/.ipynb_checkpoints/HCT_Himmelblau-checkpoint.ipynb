{
 "cells": [
  {
   "cell_type": "markdown",
   "metadata": {},
   "source": [
    "# HCT on Himmelblau"
   ]
  },
  {
   "cell_type": "markdown",
   "metadata": {},
   "source": [
    "In this example, we will learn how to run the HCT algorithm (Azar et al., 2014) on the normalized Himmelblau objective functions"
   ]
  },
  {
   "cell_type": "markdown",
   "metadata": {},
   "source": [
    "First of all, the required packages need to be loaded. Note that \"import sys\" and \"sys.path.append(\"../\") are not required when writing .py codes."
   ]
  },
  {
   "cell_type": "code",
   "execution_count": 1,
   "metadata": {},
   "outputs": [],
   "source": [
    "import sys\n",
    "sys.path.append(\"../\") # go to parent dir\n",
    "\n",
    "from PyXAB.synthetic_obj import *\n",
    "from PyXAB.algos.HCT import HCT\n",
    "from PyXAB.partition.BinaryPartition import BinaryPartition\n",
    "\n",
    "import numpy as np\n",
    "from PyXAB.utils.plot import plot_regret\n"
   ]
  },
  {
   "cell_type": "markdown",
   "metadata": {},
   "source": [
    "After that, the number of rounds, the target, the parameter domain, and the optimization algorithm needs to be defined. Note that for the partition, it is not instantiated but instead directly fed into the HCT algorithm. This is true for all the algorithms in this package."
   ]
  },
  {
   "cell_type": "code",
   "execution_count": 2,
   "metadata": {},
   "outputs": [],
   "source": [
    "# Define the number of rounds, target, domain, partition, and algorithm\n",
    "T = 1000\n",
    "target = Himmelblau.Himmelblau_Normalized()\n",
    "domain = [[-5, 5], [-5, 5]]\n",
    "partition = BinaryPartition\n",
    "algo = HCT(domain=domain, partition=partition)\n"
   ]
  },
  {
   "cell_type": "markdown",
   "metadata": {},
   "source": [
    "The regret list is used to record the cumulative regret for visualization"
   ]
  },
  {
   "cell_type": "code",
   "execution_count": 3,
   "metadata": {},
   "outputs": [],
   "source": [
    "# regret and regret list\n",
    "cumulative_regret = 0\n",
    "cumulative_regret_list = []"
   ]
  },
  {
   "cell_type": "markdown",
   "metadata": {},
   "source": [
    "The following lines of code runs the algorithm and record the cumulative regret"
   ]
  },
  {
   "cell_type": "code",
   "execution_count": 4,
   "metadata": {},
   "outputs": [],
   "source": [
    "\n",
    "# uniform noise\n",
    "for t in range(1, T+1):\n",
    "\n",
    "    point = algo.pull(t)\n",
    "    reward = target.f(point) + np.random.uniform(-0.1, 0.1)\n",
    "    algo.receive_reward(t, reward)\n",
    "    inst_regret = target.fmax - target.f(point)\n",
    "    cumulative_regret += inst_regret\n",
    "    cumulative_regret_list.append(cumulative_regret)\n"
   ]
  },
  {
   "cell_type": "markdown",
   "metadata": {},
   "source": [
    "The cumulative regret is then plotted"
   ]
  },
  {
   "cell_type": "code",
   "execution_count": 5,
   "metadata": {},
   "outputs": [
    {
     "data": {
      "image/png": "[encoded data removed]",
      "text/plain": [
       "<Figure size 432x288 with 1 Axes>"
      ]
     },
     "metadata": {
      "needs_background": "light"
     },
     "output_type": "display_data"
    }
   ],
   "source": [
    "\n",
    "# plot the regret\n",
    "plot_regret(np.array(cumulative_regret_list), name='HCT')"
   ]
  },
  {
   "cell_type": "code",
   "execution_count": null,
   "metadata": {},
   "outputs": [],
   "source": []
  }
 ],
 "metadata": {
  "kernelspec": {
   "display_name": "Python 3 (ipykernel)",
   "language": "python",
   "name": "python3"
  },
  "language_info": {
   "codemirror_mode": {
    "name": "ipython",
    "version": 3
   },
   "file_extension": ".py",
   "mimetype": "text/x-python",
   "name": "python",
   "nbconvert_exporter": "python",
   "pygments_lexer": "ipython3",
   "version": "3.9.7"
  }
 },
 "nbformat": 4,
 "nbformat_minor": 4
}
