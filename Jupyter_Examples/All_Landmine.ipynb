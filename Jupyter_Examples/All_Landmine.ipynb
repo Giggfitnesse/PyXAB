{
 "cells": [
  {
   "cell_type": "markdown",
   "metadata": {},
   "source": [
    "# Compare All the Algorithms on the Landmine Dataset"
   ]
  },
  {
   "cell_type": "markdown",
   "metadata": {},
   "source": [
    "First of all, the required packages need to be loaded. Note that \"import sys\" and \"sys.path.append(\"../\") are not required when writing .py codes."
   ]
  },
  {
   "cell_type": "code",
   "execution_count": 1,
   "metadata": {},
   "outputs": [],
   "source": [
    "import sys\n",
    "sys.path.append(\"../\") # go to parent dir\n",
    "\n",
    "from PyXAB.algos import *\n",
    "\n",
    "from PyXAB.partition.BinaryPartition import BinaryPartition\n",
    "from PyXAB.utils.plot import compare_regret, compare_regret_withsd\n",
    "from PyXAB.landmine.landmine_obj import obj_func_landmine\n",
    "import numpy as np\n",
    "import pickle\n"
   ]
  },
  {
   "cell_type": "markdown",
   "metadata": {},
   "source": [
    "Define the training function as follows"
   ]
  },
  {
   "cell_type": "code",
   "execution_count": 2,
   "metadata": {},
   "outputs": [],
   "source": [
    "\n",
    "def main(algo_list, target, domain, partition, rounds=1000):\n",
    "\n",
    "\n",
    "    algo_dictionary = {'T-HOO': HOO.T_HOO(rounds=rounds, rho=0.5, domain=domain, partition=partition),\n",
    "                       'HCT': HCT.HCT(domain=domain, rho=0.5,partition=partition),\n",
    "                       'VHCT': VHCT.VHCT(domain=domain, rho=0.5, partition=partition),\n",
    "                       'POO': POO.POO(domain=domain, partition=partition, algo=HOO.T_HOO),\n",
    "                       'PCT': PCT.PCT(domain=domain, partition=partition)}\n",
    "\n",
    "    results_dictionary = {}\n",
    "    for name in algo_list:\n",
    "        print(name, \": training\")\n",
    "        algo = algo_dictionary[name]\n",
    "        regret_list = []\n",
    "        regret = 0\n",
    "        for t in range(1, rounds + 1):\n",
    "            point = algo.pull(t)\n",
    "            reward = target.f(point)\n",
    "            algo.receive_reward(t, reward)\n",
    "            inst_regret = target.fmax - reward\n",
    "            regret += inst_regret\n",
    "            regret_list.append(regret)\n",
    "\n",
    "        results_dictionary[name] = np.array(regret_list)\n",
    "\n",
    "    return results_dictionary[name]\n",
    "\n"
   ]
  },
  {
   "cell_type": "markdown",
   "metadata": {},
   "source": [
    "Load the dataset, split the dataset into the training set and the testing set. Then define the objective function using the dataset."
   ]
  },
  {
   "cell_type": "code",
   "execution_count": 3,
   "metadata": {},
   "outputs": [],
   "source": [
    "\n",
    "landmine_data = pickle.load(open(\"../PyXAB/landmine/landmine_formated_data.pkl\", \"rb\"))\n",
    "all_X_train, all_Y_train, all_X_test, all_Y_test = landmine_data[\"all_X_train\"], landmine_data[\"all_Y_train\"], \\\n",
    "                                                       landmine_data[\"all_X_test\"], landmine_data[\"all_Y_test\"]\n",
    "\n",
    "X_train = all_X_train[0]\n",
    "Y_train = np.squeeze(all_Y_train[0])\n",
    "X_test = all_X_test[0]\n",
    "Y_test = np.squeeze(all_Y_test[0])\n",
    "\n",
    "target = obj_func_landmine(X_train=X_train, X_test=X_test, Y_train=Y_train, Y_test=Y_test)"
   ]
  },
  {
   "cell_type": "markdown",
   "metadata": {},
   "source": [
    "Define the parameter domain, the partition chosen, the number of rounds, and the number of trial runs"
   ]
  },
  {
   "cell_type": "code",
   "execution_count": 4,
   "metadata": {},
   "outputs": [],
   "source": [
    "domain = [[1e-4, 10.0], [1e-2, 10.0]]\n",
    "partition = BinaryPartition\n",
    "rounds = 500\n",
    "trials = 5"
   ]
  },
  {
   "cell_type": "markdown",
   "metadata": {},
   "source": [
    "Run all the algorithms and record the cumulative regret of each algorithm"
   ]
  },
  {
   "cell_type": "code",
   "execution_count": 5,
   "metadata": {},
   "outputs": [
    {
     "name": "stdout",
     "output_type": "stream",
     "text": [
      "T-HOO : training\n",
      "T-HOO : training\n",
      "T-HOO : training\n",
      "T-HOO : training\n",
      "T-HOO : training\n",
      "HCT : training\n"
     ]
    },
    {
     "name": "stderr",
     "output_type": "stream",
     "text": [
      "../PyXAB/algos/HCT.py:15: RuntimeWarning: divide by zero encountered in log\n",
      "  return np.power(2, np.ceil(np.log(x) / np.log(2)))\n",
      "../PyXAB/algos/HCT.py:58: RuntimeWarning: divide by zero encountered in double_scalars\n",
      "  delta_tilde = np.minimum(1.0/2, self.c1 * self.delta / t_plus)\n",
      "../PyXAB/algos/HCT.py:15: RuntimeWarning: divide by zero encountered in log\n",
      "  return np.power(2, np.ceil(np.log(x) / np.log(2)))\n",
      "../PyXAB/algos/HCT.py:180: RuntimeWarning: divide by zero encountered in double_scalars\n",
      "  delta_tilde = np.minimum(1, self.c1 * self.delta / t_plus)\n",
      "../PyXAB/algos/HCT.py:112: RuntimeWarning: divide by zero encountered in double_scalars\n",
      "  delta_tilde = np.minimum(1, self.c1 * self.delta / t_plus)\n"
     ]
    },
    {
     "name": "stdout",
     "output_type": "stream",
     "text": [
      "HCT : training\n"
     ]
    },
    {
     "name": "stderr",
     "output_type": "stream",
     "text": [
      "../PyXAB/algos/HCT.py:15: RuntimeWarning: divide by zero encountered in log\n",
      "  return np.power(2, np.ceil(np.log(x) / np.log(2)))\n",
      "../PyXAB/algos/HCT.py:58: RuntimeWarning: divide by zero encountered in double_scalars\n",
      "  delta_tilde = np.minimum(1.0/2, self.c1 * self.delta / t_plus)\n",
      "../PyXAB/algos/HCT.py:15: RuntimeWarning: divide by zero encountered in log\n",
      "  return np.power(2, np.ceil(np.log(x) / np.log(2)))\n",
      "../PyXAB/algos/HCT.py:180: RuntimeWarning: divide by zero encountered in double_scalars\n",
      "  delta_tilde = np.minimum(1, self.c1 * self.delta / t_plus)\n",
      "../PyXAB/algos/HCT.py:112: RuntimeWarning: divide by zero encountered in double_scalars\n",
      "  delta_tilde = np.minimum(1, self.c1 * self.delta / t_plus)\n"
     ]
    },
    {
     "name": "stdout",
     "output_type": "stream",
     "text": [
      "HCT : training\n"
     ]
    },
    {
     "name": "stderr",
     "output_type": "stream",
     "text": [
      "../PyXAB/algos/HCT.py:15: RuntimeWarning: divide by zero encountered in log\n",
      "  return np.power(2, np.ceil(np.log(x) / np.log(2)))\n",
      "../PyXAB/algos/HCT.py:58: RuntimeWarning: divide by zero encountered in double_scalars\n",
      "  delta_tilde = np.minimum(1.0/2, self.c1 * self.delta / t_plus)\n",
      "../PyXAB/algos/HCT.py:15: RuntimeWarning: divide by zero encountered in log\n",
      "  return np.power(2, np.ceil(np.log(x) / np.log(2)))\n",
      "../PyXAB/algos/HCT.py:180: RuntimeWarning: divide by zero encountered in double_scalars\n",
      "  delta_tilde = np.minimum(1, self.c1 * self.delta / t_plus)\n",
      "../PyXAB/algos/HCT.py:112: RuntimeWarning: divide by zero encountered in double_scalars\n",
      "  delta_tilde = np.minimum(1, self.c1 * self.delta / t_plus)\n"
     ]
    },
    {
     "name": "stdout",
     "output_type": "stream",
     "text": [
      "HCT : training\n"
     ]
    },
    {
     "name": "stderr",
     "output_type": "stream",
     "text": [
      "../PyXAB/algos/HCT.py:15: RuntimeWarning: divide by zero encountered in log\n",
      "  return np.power(2, np.ceil(np.log(x) / np.log(2)))\n",
      "../PyXAB/algos/HCT.py:58: RuntimeWarning: divide by zero encountered in double_scalars\n",
      "  delta_tilde = np.minimum(1.0/2, self.c1 * self.delta / t_plus)\n",
      "../PyXAB/algos/HCT.py:15: RuntimeWarning: divide by zero encountered in log\n",
      "  return np.power(2, np.ceil(np.log(x) / np.log(2)))\n",
      "../PyXAB/algos/HCT.py:180: RuntimeWarning: divide by zero encountered in double_scalars\n",
      "  delta_tilde = np.minimum(1, self.c1 * self.delta / t_plus)\n",
      "../PyXAB/algos/HCT.py:112: RuntimeWarning: divide by zero encountered in double_scalars\n",
      "  delta_tilde = np.minimum(1, self.c1 * self.delta / t_plus)\n"
     ]
    },
    {
     "name": "stdout",
     "output_type": "stream",
     "text": [
      "HCT : training\n"
     ]
    },
    {
     "name": "stderr",
     "output_type": "stream",
     "text": [
      "../PyXAB/algos/HCT.py:15: RuntimeWarning: divide by zero encountered in log\n",
      "  return np.power(2, np.ceil(np.log(x) / np.log(2)))\n",
      "../PyXAB/algos/HCT.py:58: RuntimeWarning: divide by zero encountered in double_scalars\n",
      "  delta_tilde = np.minimum(1.0/2, self.c1 * self.delta / t_plus)\n",
      "../PyXAB/algos/HCT.py:15: RuntimeWarning: divide by zero encountered in log\n",
      "  return np.power(2, np.ceil(np.log(x) / np.log(2)))\n",
      "../PyXAB/algos/HCT.py:180: RuntimeWarning: divide by zero encountered in double_scalars\n",
      "  delta_tilde = np.minimum(1, self.c1 * self.delta / t_plus)\n",
      "../PyXAB/algos/HCT.py:112: RuntimeWarning: divide by zero encountered in double_scalars\n",
      "  delta_tilde = np.minimum(1, self.c1 * self.delta / t_plus)\n"
     ]
    },
    {
     "name": "stdout",
     "output_type": "stream",
     "text": [
      "VHCT : training\n"
     ]
    },
    {
     "name": "stderr",
     "output_type": "stream",
     "text": [
      "../PyXAB/algos/VHCT.py:15: RuntimeWarning: divide by zero encountered in log\n",
      "  return np.power(2, np.ceil(np.log(x) / np.log(2)))\n",
      "../PyXAB/algos/VHCT.py:60: RuntimeWarning: divide by zero encountered in double_scalars\n",
      "  delta_tilde = np.minimum(1.0 / 2, self.c1 * self.delta / t_plus)\n",
      "../PyXAB/algos/VHCT.py:15: RuntimeWarning: divide by zero encountered in log\n",
      "  return np.power(2, np.ceil(np.log(x) / np.log(2)))\n",
      "../PyXAB/algos/VHCT.py:196: RuntimeWarning: divide by zero encountered in double_scalars\n",
      "  delta_tilde = np.minimum(1, self.c1 * self.delta / t_plus)\n",
      "../PyXAB/algos/VHCT.py:125: RuntimeWarning: divide by zero encountered in double_scalars\n",
      "  delta_tilde = np.minimum(1, self.c1 * self.delta / t_plus)\n"
     ]
    },
    {
     "name": "stdout",
     "output_type": "stream",
     "text": [
      "VHCT : training\n"
     ]
    },
    {
     "name": "stderr",
     "output_type": "stream",
     "text": [
      "../PyXAB/algos/VHCT.py:15: RuntimeWarning: divide by zero encountered in log\n",
      "  return np.power(2, np.ceil(np.log(x) / np.log(2)))\n",
      "../PyXAB/algos/VHCT.py:60: RuntimeWarning: divide by zero encountered in double_scalars\n",
      "  delta_tilde = np.minimum(1.0 / 2, self.c1 * self.delta / t_plus)\n",
      "../PyXAB/algos/VHCT.py:15: RuntimeWarning: divide by zero encountered in log\n",
      "  return np.power(2, np.ceil(np.log(x) / np.log(2)))\n",
      "../PyXAB/algos/VHCT.py:196: RuntimeWarning: divide by zero encountered in double_scalars\n",
      "  delta_tilde = np.minimum(1, self.c1 * self.delta / t_plus)\n",
      "../PyXAB/algos/VHCT.py:125: RuntimeWarning: divide by zero encountered in double_scalars\n",
      "  delta_tilde = np.minimum(1, self.c1 * self.delta / t_plus)\n"
     ]
    },
    {
     "name": "stdout",
     "output_type": "stream",
     "text": [
      "VHCT : training\n"
     ]
    },
    {
     "name": "stderr",
     "output_type": "stream",
     "text": [
      "../PyXAB/algos/VHCT.py:15: RuntimeWarning: divide by zero encountered in log\n",
      "  return np.power(2, np.ceil(np.log(x) / np.log(2)))\n",
      "../PyXAB/algos/VHCT.py:60: RuntimeWarning: divide by zero encountered in double_scalars\n",
      "  delta_tilde = np.minimum(1.0 / 2, self.c1 * self.delta / t_plus)\n",
      "../PyXAB/algos/VHCT.py:15: RuntimeWarning: divide by zero encountered in log\n",
      "  return np.power(2, np.ceil(np.log(x) / np.log(2)))\n",
      "../PyXAB/algos/VHCT.py:196: RuntimeWarning: divide by zero encountered in double_scalars\n",
      "  delta_tilde = np.minimum(1, self.c1 * self.delta / t_plus)\n",
      "../PyXAB/algos/VHCT.py:125: RuntimeWarning: divide by zero encountered in double_scalars\n",
      "  delta_tilde = np.minimum(1, self.c1 * self.delta / t_plus)\n"
     ]
    },
    {
     "name": "stdout",
     "output_type": "stream",
     "text": [
      "VHCT : training\n"
     ]
    },
    {
     "name": "stderr",
     "output_type": "stream",
     "text": [
      "../PyXAB/algos/VHCT.py:15: RuntimeWarning: divide by zero encountered in log\n",
      "  return np.power(2, np.ceil(np.log(x) / np.log(2)))\n",
      "../PyXAB/algos/VHCT.py:60: RuntimeWarning: divide by zero encountered in double_scalars\n",
      "  delta_tilde = np.minimum(1.0 / 2, self.c1 * self.delta / t_plus)\n",
      "../PyXAB/algos/VHCT.py:15: RuntimeWarning: divide by zero encountered in log\n",
      "  return np.power(2, np.ceil(np.log(x) / np.log(2)))\n",
      "../PyXAB/algos/VHCT.py:196: RuntimeWarning: divide by zero encountered in double_scalars\n",
      "  delta_tilde = np.minimum(1, self.c1 * self.delta / t_plus)\n",
      "../PyXAB/algos/VHCT.py:125: RuntimeWarning: divide by zero encountered in double_scalars\n",
      "  delta_tilde = np.minimum(1, self.c1 * self.delta / t_plus)\n"
     ]
    },
    {
     "name": "stdout",
     "output_type": "stream",
     "text": [
      "VHCT : training\n"
     ]
    },
    {
     "name": "stderr",
     "output_type": "stream",
     "text": [
      "../PyXAB/algos/VHCT.py:15: RuntimeWarning: divide by zero encountered in log\n",
      "  return np.power(2, np.ceil(np.log(x) / np.log(2)))\n",
      "../PyXAB/algos/VHCT.py:60: RuntimeWarning: divide by zero encountered in double_scalars\n",
      "  delta_tilde = np.minimum(1.0 / 2, self.c1 * self.delta / t_plus)\n",
      "../PyXAB/algos/VHCT.py:15: RuntimeWarning: divide by zero encountered in log\n",
      "  return np.power(2, np.ceil(np.log(x) / np.log(2)))\n",
      "../PyXAB/algos/VHCT.py:196: RuntimeWarning: divide by zero encountered in double_scalars\n",
      "  delta_tilde = np.minimum(1, self.c1 * self.delta / t_plus)\n",
      "../PyXAB/algos/VHCT.py:125: RuntimeWarning: divide by zero encountered in double_scalars\n",
      "  delta_tilde = np.minimum(1, self.c1 * self.delta / t_plus)\n"
     ]
    },
    {
     "name": "stdout",
     "output_type": "stream",
     "text": [
      "POO : training\n",
      "POO : training\n",
      "POO : training\n",
      "POO : training\n",
      "POO : training\n",
      "PCT : training\n"
     ]
    },
    {
     "name": "stderr",
     "output_type": "stream",
     "text": [
      "../PyXAB/algos/HCT.py:15: RuntimeWarning: divide by zero encountered in log\n",
      "  return np.power(2, np.ceil(np.log(x) / np.log(2)))\n",
      "../PyXAB/algos/HCT.py:58: RuntimeWarning: divide by zero encountered in double_scalars\n",
      "  delta_tilde = np.minimum(1.0/2, self.c1 * self.delta / t_plus)\n",
      "../PyXAB/algos/HCT.py:15: RuntimeWarning: divide by zero encountered in log\n",
      "  return np.power(2, np.ceil(np.log(x) / np.log(2)))\n",
      "../PyXAB/algos/HCT.py:180: RuntimeWarning: divide by zero encountered in double_scalars\n",
      "  delta_tilde = np.minimum(1, self.c1 * self.delta / t_plus)\n",
      "../PyXAB/algos/HCT.py:112: RuntimeWarning: divide by zero encountered in double_scalars\n",
      "  delta_tilde = np.minimum(1, self.c1 * self.delta / t_plus)\n"
     ]
    },
    {
     "name": "stdout",
     "output_type": "stream",
     "text": [
      "PCT : training\n"
     ]
    },
    {
     "name": "stderr",
     "output_type": "stream",
     "text": [
      "../PyXAB/algos/HCT.py:15: RuntimeWarning: divide by zero encountered in log\n",
      "  return np.power(2, np.ceil(np.log(x) / np.log(2)))\n",
      "../PyXAB/algos/HCT.py:58: RuntimeWarning: divide by zero encountered in double_scalars\n",
      "  delta_tilde = np.minimum(1.0/2, self.c1 * self.delta / t_plus)\n",
      "../PyXAB/algos/HCT.py:15: RuntimeWarning: divide by zero encountered in log\n",
      "  return np.power(2, np.ceil(np.log(x) / np.log(2)))\n",
      "../PyXAB/algos/HCT.py:180: RuntimeWarning: divide by zero encountered in double_scalars\n",
      "  delta_tilde = np.minimum(1, self.c1 * self.delta / t_plus)\n",
      "../PyXAB/algos/HCT.py:112: RuntimeWarning: divide by zero encountered in double_scalars\n",
      "  delta_tilde = np.minimum(1, self.c1 * self.delta / t_plus)\n"
     ]
    },
    {
     "name": "stdout",
     "output_type": "stream",
     "text": [
      "PCT : training\n"
     ]
    },
    {
     "name": "stderr",
     "output_type": "stream",
     "text": [
      "../PyXAB/algos/HCT.py:15: RuntimeWarning: divide by zero encountered in log\n",
      "  return np.power(2, np.ceil(np.log(x) / np.log(2)))\n",
      "../PyXAB/algos/HCT.py:58: RuntimeWarning: divide by zero encountered in double_scalars\n",
      "  delta_tilde = np.minimum(1.0/2, self.c1 * self.delta / t_plus)\n",
      "../PyXAB/algos/HCT.py:15: RuntimeWarning: divide by zero encountered in log\n",
      "  return np.power(2, np.ceil(np.log(x) / np.log(2)))\n",
      "../PyXAB/algos/HCT.py:180: RuntimeWarning: divide by zero encountered in double_scalars\n",
      "  delta_tilde = np.minimum(1, self.c1 * self.delta / t_plus)\n",
      "../PyXAB/algos/HCT.py:112: RuntimeWarning: divide by zero encountered in double_scalars\n",
      "  delta_tilde = np.minimum(1, self.c1 * self.delta / t_plus)\n"
     ]
    },
    {
     "name": "stdout",
     "output_type": "stream",
     "text": [
      "PCT : training\n"
     ]
    },
    {
     "name": "stderr",
     "output_type": "stream",
     "text": [
      "../PyXAB/algos/HCT.py:15: RuntimeWarning: divide by zero encountered in log\n",
      "  return np.power(2, np.ceil(np.log(x) / np.log(2)))\n",
      "../PyXAB/algos/HCT.py:58: RuntimeWarning: divide by zero encountered in double_scalars\n",
      "  delta_tilde = np.minimum(1.0/2, self.c1 * self.delta / t_plus)\n",
      "../PyXAB/algos/HCT.py:15: RuntimeWarning: divide by zero encountered in log\n",
      "  return np.power(2, np.ceil(np.log(x) / np.log(2)))\n",
      "../PyXAB/algos/HCT.py:180: RuntimeWarning: divide by zero encountered in double_scalars\n",
      "  delta_tilde = np.minimum(1, self.c1 * self.delta / t_plus)\n",
      "../PyXAB/algos/HCT.py:112: RuntimeWarning: divide by zero encountered in double_scalars\n",
      "  delta_tilde = np.minimum(1, self.c1 * self.delta / t_plus)\n"
     ]
    },
    {
     "name": "stdout",
     "output_type": "stream",
     "text": [
      "PCT : training\n"
     ]
    },
    {
     "name": "stderr",
     "output_type": "stream",
     "text": [
      "../PyXAB/algos/HCT.py:15: RuntimeWarning: divide by zero encountered in log\n",
      "  return np.power(2, np.ceil(np.log(x) / np.log(2)))\n",
      "../PyXAB/algos/HCT.py:58: RuntimeWarning: divide by zero encountered in double_scalars\n",
      "  delta_tilde = np.minimum(1.0/2, self.c1 * self.delta / t_plus)\n",
      "../PyXAB/algos/HCT.py:15: RuntimeWarning: divide by zero encountered in log\n",
      "  return np.power(2, np.ceil(np.log(x) / np.log(2)))\n",
      "../PyXAB/algos/HCT.py:180: RuntimeWarning: divide by zero encountered in double_scalars\n",
      "  delta_tilde = np.minimum(1, self.c1 * self.delta / t_plus)\n",
      "../PyXAB/algos/HCT.py:112: RuntimeWarning: divide by zero encountered in double_scalars\n",
      "  delta_tilde = np.minimum(1, self.c1 * self.delta / t_plus)\n"
     ]
    }
   ],
   "source": [
    "\n",
    "regret_array_HOO = np.array([main(['T-HOO'], target, domain, partition,rounds) for _ in range(trials)])\n",
    "regret_array_HCT = np.array([main(['HCT'], target, domain, partition, rounds) for _ in range(trials)])\n",
    "regret_array_VHCT = np.array([main(['VHCT'], target, domain, partition, rounds) for _ in range(trials)])\n",
    "regret_array_POO = np.array([main(['POO'], target, domain, partition, rounds) for _ in range(trials)])\n",
    "regret_array_PCT = np.array([main(['PCT'], target, domain, partition, rounds) for _ in range(trials)])\n",
    "\n"
   ]
  },
  {
   "cell_type": "markdown",
   "metadata": {},
   "source": [
    "Plot the cumulative regret of VHCT with error bars"
   ]
  },
  {
   "cell_type": "code",
   "execution_count": 6,
   "metadata": {},
   "outputs": [
    {
     "data": {
      "image/png": "[encoded data removed]",
      "text/plain": [
       "<Figure size 600x500 with 1 Axes>"
      ]
     },
     "metadata": {
      "needs_background": "light"
     },
     "output_type": "display_data"
    }
   ],
   "source": [
    "\n",
    "regret_dic = {\"regret\": [regret_array_VHCT, regret_array_HCT, regret_array_HOO, regret_array_POO, regret_array_PCT],\n",
    "              \"labels\": [\"VHCT\", \"HCT\", 'T-HOO',  'POO', 'PCT'],\n",
    "              \"colors\": ['red', 'blue', 'green', 'grey', 'orange']}\n",
    "\n",
    "compare_regret_withsd(regret_dic, x_range=(0, rounds))"
   ]
  }
 ],
 "metadata": {
  "kernelspec": {
   "display_name": "Python 3",
   "language": "python",
   "name": "python3"
  },
  "language_info": {
   "codemirror_mode": {
    "name": "ipython",
    "version": 3
   },
   "file_extension": ".py",
   "mimetype": "text/x-python",
   "name": "python",
   "nbconvert_exporter": "python",
   "pygments_lexer": "ipython3",
   "version": "3.8.3"
  }
 },
 "nbformat": 4,
 "nbformat_minor": 4
}
